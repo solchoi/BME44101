{
 "cells": [
  {
   "attachments": {},
   "cell_type": "markdown",
   "metadata": {},
   "source": [
    "# Statistics Lecture 02\n",
    "## 2.1 Events and Sample Spacees\n",
    "\n",
    "### 2.1.1 (Pen and papers) Sample Spaces\n",
    "\n",
    "- Exercise and diet are being studied as possible substitutes for medication to lower blood pressure.  \n",
    "- Three groups of subjects will be used to study the effect of exercise.  \n",
    "- Group 1 is sedentary, while Group 2 walks and Group 3 swims for an hour a day.   \n",
    "- Half of the three exercise groups will be on a salt-free diet.  \n",
    "- An additional group of subjects will not exercise or restrict their salt, but will take the standard medication.  \n",
    "- Use Z for sedentary, W for walker, S for swimmer, Y for salt, N for no salt, M for medication, and F for medication free.  \n",
    "\n",
    "(a) Show all of the elements of the sample space S;\n",
    "\n",
    "(b) Given that A is the set of non-medicated subjects and B is the set of   walkers, list the elements of A ∪ B;  \n",
    "\n",
    "(c) List the elements of A ∩ B;   \n",
    "\n",
    "(d) Given that C is the set of medicated subjects who also swim, list the elements of C."
   ]
  },
  {
   "attachments": {},
   "cell_type": "markdown",
   "metadata": {},
   "source": [
    "## 2.2 Counting Sample points\n",
    "### 2.1.1 (Pen and Papers) Permutation\n",
    "- How many distinct permutations can be made from the letters of the word \"UNIST\"? ? Explain your answer.\n",
    "- How many distinct permutations can be made from the letters of the word \"STATS\"? Explain your answer.\n",
    "- How many distinct permutations can be made from the three letters of the word \"UNIST\"? ? Explain your answer.\n",
    "- How many distinct permutations can be made from three letters of the word \"STATS\"? Explain your answer."
   ]
  },
  {
   "cell_type": "markdown",
   "metadata": {},
   "source": []
  },
  {
   "cell_type": "markdown",
   "metadata": {},
   "source": [
    "### 2.1.2 (Programming) Permutation\n",
    "- The function \"get_sample_points\" returns a list of all possible permutation which can be made from input s.\n",
    "- The function \"get_unique_set_of_sets\" returns a list of unique sets of input s.\n",
    "- Investigate the code. \n",
    "- List the distinct permutations which can be made from the letters of the word \"UNIST\".\n",
    "- How many are they?\n",
    "- List the distinct permutations which can be made from the letters of the word \"STATS\"\n",
    "- How many are they?"
   ]
  },
  {
   "cell_type": "code",
   "execution_count": null,
   "metadata": {},
   "outputs": [],
   "source": [
    "S=[\"U\",\"N\",\"I\",\"S\",\"T\"]\n",
    "def get_permutated_list(s):\n",
    "    if(len(s)==1):\n",
    "        return [s]\n",
    "    outlist=[]\n",
    "    for (idx,val) in enumerate(s):\n",
    "        list_without_me=get_permutated_list(s[:idx]+s[idx+1:])\n",
    "        for item in list_without_me:\n",
    "            item.append(val)\n",
    "            outlist.append(item)\n",
    "    return outlist\n",
    "\n",
    "def get_unique_set_of_sets(s):\n",
    "    return [list(i) for i in set(tuple(i) for i in s)]\n",
    "\n",
    "permuteS=get_permutated_list(S)\n",
    "print(permuteS)\n",
    "setS=get_unique_set_of_sets(permuteS)\n",
    "print(len(setS))"
   ]
  },
  {
   "attachments": {},
   "cell_type": "markdown",
   "metadata": {},
   "source": [
    "### 2.1.3 (Programming) itertools.permutations\n",
    "- Read the itertools.permutations api documentation\n",
    "- https://docs.python.org/3/library/itertools.html#itertools.permutations\n",
    "- Use iter tools permutations function to list all the permutations of the letters of the word \"UNI\"\n",
    "- List the distinct permutations which can be made from the letters of the word \"SST\"\n",
    "- Use iter tools permutations function to list all the permutations of the letters of the word \"UNI\"\n",
    "- List the distinct permutations which can be made from three letters of the word \"STATISTICS\""
   ]
  },
  {
   "cell_type": "code",
   "execution_count": null,
   "metadata": {},
   "outputs": [],
   "source": [
    "#Hint\n",
    "from itertools import permutations\n",
    "a = \"GEEK\"\n",
    "p = list(permutations(a))\n",
    "out=get_unique_set_of_sets(p)\n",
    "print(len(out), out)"
   ]
  },
  {
   "cell_type": "markdown",
   "metadata": {},
   "source": [
    "### 2.1.3 (Pen and Papers) Permutation\n",
    "- HHow many different letter arrangements can be made from the letters of the word \"UNIST\"? Explain your answer.\n",
    "- How many different letter arrangements can be made from the letters of the word \"STATS\"? Explain your answer.\n",
    "- How many different letter arrangements can be made from three letters of the word \"UNIST\"? Explain your answer.\n",
    "-  How many different letter arrangements can be made from three letters of the word \"STATS\"? Explain your answer."
   ]
  },
  {
   "cell_type": "markdown",
   "metadata": {},
   "source": [
    "### 2.1.4 (Programming) itertools.combinations\n",
    "- Read the itertools.combination api documentation\n",
    "- https://docs.python.org/3/library/itertools.html#itertools.combinations\n",
    "- use itertools.combination to list the combinations from three letters of the word \"UNIST\"\n",
    "- List the combinations from three letters of the word \"STATISTICS\""
   ]
  },
  {
   "cell_type": "code",
   "execution_count": null,
   "metadata": {},
   "outputs": [],
   "source": [
    "#HINT\n",
    "from itertools import combinations\n",
    "a = \"GEEK\"\n",
    "p = list(combinations(a,2))\n",
    "out=get_unique_set_of_sets(p)\n",
    "print(len(out), out)"
   ]
  },
  {
   "cell_type": "markdown",
   "metadata": {},
   "source": [
    "## 2.2 Probability\n",
    "### 2.2.1. (Pen and papers) Solve the textbook exercises\n",
    "- Exercise 2.58\n",
    "- Exercise 2.59\n",
    "-  Exercise 2.90\n",
    "- Exercise 2.93"
   ]
  },
  {
   "attachments": {},
   "cell_type": "markdown",
   "metadata": {},
   "source": [
    "### 2.2.2 (Programming Experiment) Virutal Coin Toss\n",
    "- Use the virtual coin functon below and toss that for 10 times.\n",
    "- How many heads and tails do you have? \n",
    "- What does it do?\n",
    "- What is the difference between random and rand?\n",
    "- Increase the number of toss from 10, 100, 1000, 10000, 100000 times.\n",
    "- What is the ratio of heads and tails? "
   ]
  },
  {
   "cell_type": "code",
   "execution_count": null,
   "metadata": {},
   "outputs": [],
   "source": [
    "def virtual_coin_toss():\n",
    "    if (np.random.random()>0.5):\n",
    "        return 'H'\n",
    "    else:\n",
    "        return 'T'\n",
    "cointoss=[virtual_coin_toss() for i in range(1000)]\n",
    "print(f\"{cointoss.count('H')} heads from {len(cointoss)} tosses\")\n"
   ]
  },
  {
   "cell_type": "markdown",
   "metadata": {},
   "source": [
    "### 2.2.3 (Programming) Uneven Virutal Con Toss\n",
    "- modify the function above to get the probability of getting head for a coin toss. (hint: def virtual_coin_toss(pHead))\n",
    "- set $P('H')=0.01$\n",
    "- Perform an experiment of virtual coin toss for 100 times.  \n",
    "- How many heads did you get?\n",
    "- Increase the number of toss from 10, 100, 1000, 10000, 100000 times.\n",
    "- How is the ratio of heads and tails? "
   ]
  },
  {
   "cell_type": "markdown",
   "metadata": {},
   "source": [
    "### 2.2.4 (pen and papers)\n",
    "- Solve Exercise 2.95\n",
    "- Solve Exercise 2.110"
   ]
  },
  {
   "cell_type": "markdown",
   "metadata": {},
   "source": [
    "### 2.2.5 (Experiment) Operation survival using random.choices()\n",
    "- We will make an experiment on Exercise 2.11\n",
    "- We will use `random.choices()` to simulate the experiment\n",
    "- Check the document https://docs.python.org/3/library/random.html#random.choices\n",
    "- In the code below, the choices function simulates an experiment with three patients, when ther probability of recovery is 0.8.\n",
    "- The result is a list with the result of each patient; 0 for death and 1 for recovery.\n",
    "- simulations provides the 1000 experiments. \n",
    "- nsurvided is the number of patients that survived in each experiment.\n",
    "- use nsurvived.count to count the number of experiments with 0, 1, 2, and 3 survivors.\n",
    "- Find the probability of each cases and compare with the theoretical result."
   ]
  },
  {
   "cell_type": "code",
   "execution_count": null,
   "metadata": {},
   "outputs": [],
   "source": [
    "from random import choices\n",
    "nexperiment=1000\n",
    "sucesss=choices([0,1],k=3,weights=[0.2,0.8])\n",
    "simulations=[choices([0,1],k=3,weights=[0.2,0.8]) for i in range(nexperiment)]\n",
    "nsurvived=[sum(x) for x in simulations]\n",
    "print(nsurvived.count(0)/nexperiment)\n"
   ]
  },
  {
   "attachments": {},
   "cell_type": "markdown",
   "metadata": {},
   "source": [
    "### 2.2.5 (Optional) The birthday problem\n",
    "- Derive an equation which allows you to compute the probability that in a group of k randomly chosen people at least\n",
    "two people will have the same birthday (disregarding the year of birth). To derive the equation you need to make a\n",
    "few assumptions; note the assumptions you made.\n",
    "- Use your equation to make a graph which shows the probability as a function of k. For which values of k is the\n",
    "probability higher than 50%? What is the probability of having at least two people with the same birthday in your\n",
    "course?"
   ]
  },
  {
   "cell_type": "markdown",
   "metadata": {},
   "source": []
  }
 ],
 "metadata": {
  "kernelspec": {
   "display_name": "Python 3",
   "language": "python",
   "name": "python3"
  },
  "language_info": {
   "codemirror_mode": {
    "name": "ipython",
    "version": 3
   },
   "file_extension": ".py",
   "mimetype": "text/x-python",
   "name": "python",
   "nbconvert_exporter": "python",
   "pygments_lexer": "ipython3",
   "version": "3.11.3"
  },
  "orig_nbformat": 4
 },
 "nbformat": 4,
 "nbformat_minor": 2
}
