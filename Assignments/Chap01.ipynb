{
 "cells": [
  {
   "attachments": {},
   "cell_type": "markdown",
   "metadata": {},
   "source": [
    "# Chapter 01 Introduction\n",
    "- Due: 2023.9.11.(Mon), 10:29 AM\n",
    "- Discussion: 2023.9.11. (Mon) 10:30\n",
    "- Instructor : Hansol Choi (apine@unist.ac.kr)\n",
    "- **Please do not distribute without permission.**"
   ]
  },
  {
   "cell_type": "markdown",
   "metadata": {},
   "source": [
    "## Pen and Papers\n",
    "- Read the book Chapter 1.\n",
    "- Find the words in Chap. 1.2-1.3. Make your own definitions and memorize them\n",
    "  - population and sample\n",
    "  - sample mean $\\bar{x}$\n",
    "  - increasing order \n",
    "  - sample median $\\tilde{x}$\n",
    "  - centroid of the data\n",
    "  - population mean\n",
    "  - trimmed mean\n",
    "  - sample standard deviation $s$\n",
    "  - sample variance $s^2$\n",
    "  - population variance\n",
    "  - discrete and continuous\n",
    "  - frequency distribution\n",
    "  - relative frequency distribution.\n",
    "  - box plot (box-whisker-plot)"
   ]
  },
  {
   "cell_type": "markdown",
   "metadata": {},
   "source": [
    "## First Step on Statistical Data Analysis\n",
    "- Find the example1_2.csv under the Resources directory\n",
    "- Open and check the file. \n",
    "- What can you find from the data? \n",
    "- What kind of research can you perform? \n",
    "- What is your hypothesis?"
   ]
  },
  {
   "attachments": {},
   "cell_type": "markdown",
   "metadata": {},
   "source": [
    "### Reading data in \n",
    "- We want to read the data from Example 1.2 in textbook\n",
    "- It is 'Resources/example1_2.csv'\n",
    "- First, you will need to read the data in. \n",
    "- The code below reads the data. \n",
    "#### A sample code to read a data in. "
   ]
  },
  {
   "cell_type": "code",
   "execution_count": null,
   "metadata": {},
   "outputs": [],
   "source": [
    "values=[]\n",
    "idx_weight=2\n",
    "idx_condition=1\n",
    "file_in='example1_2.csv'\n",
    "dict_data={}\n",
    "with open(file_in) as fin:\n",
    "    colnames=fin.readline().rstrip().split(\"\\t\")\n",
    "    aline=fin.readline()\n",
    "    while(aline):\n",
    "        values=aline.rstrip().split(\"\\t\")\n",
    "        cur_val=float(values[idx_weight])\n",
    "        cur_condition=values[idx_condition]\n",
    "        if(cur_condition in dict_data):\n",
    "            dict_data[cur_condition].append(cur_val)\n",
    "        else:\n",
    "            dict_data[cur_condition]=[cur_val]\n",
    "        aline=fin.readline()\n"
   ]
  },
  {
   "attachments": {},
   "cell_type": "markdown",
   "metadata": {},
   "source": [
    "#### Investigation of Data\n",
    "- Run the code below. after running above. What do you see?"
   ]
  },
  {
   "cell_type": "code",
   "execution_count": null,
   "metadata": {},
   "outputs": [],
   "source": [
    "print()\n",
    "print(colnames)\n",
    "print(dict_data.keys())\n",
    "print(dict_data['Nitrogen'])\n",
    "print(dict_data['NoNitrogen'])\n"
   ]
  },
  {
   "cell_type": "markdown",
   "metadata": {},
   "source": [
    "#### visualization of data\n",
    "- Use matplotlib to visualize the data to compare 'Nitrogen' and 'NoNitrogen' Condition. "
   ]
  },
  {
   "cell_type": "code",
   "execution_count": null,
   "metadata": {},
   "outputs": [],
   "source": [
    "#Your code here\n"
   ]
  },
  {
   "cell_type": "markdown",
   "metadata": {},
   "source": [
    "### Representative Statistics\n",
    "- Compute the following statics for Nitrogen and Non-Nitrogen condition\n",
    "    - Sample Size\n",
    "    - Sample Mean\n",
    "    - Total sum of the samples\n",
    "    - Sample Variance\n",
    "    - Sample median\n",
    "    - Sample standard deviation\n",
    "- You can use the following functions. You will need to import numpy to use np.mean, np.var etc. \n",
    "    - `len()`\n",
    "    - `sum()`\n",
    "    - `np.mean()`\n",
    "    - `np.var()`\n",
    "    - `np.median()`\n",
    "    - `np.std()`\n",
    "- Which case has larger mean for stem weight? Nitrogen? NoNitrogen? \n",
    "- Which case has larger variance?"
   ]
  },
  {
   "attachments": {},
   "cell_type": "markdown",
   "metadata": {},
   "source": []
  },
  {
   "cell_type": "code",
   "execution_count": null,
   "metadata": {},
   "outputs": [],
   "source": [
    "# Your Code here"
   ]
  },
  {
   "attachments": {},
   "cell_type": "markdown",
   "metadata": {},
   "source": [
    "### Data handling using Pandas dataframe\n",
    "- Another important method to load the tab seperated data is using pandas library\n",
    "- Check the code below\n",
    "- for pandas function check the documentation [here](https://pandas.pydata.org/pandas-docs/stable/reference/api/pandas.read_csv.html)"
   ]
  },
  {
   "cell_type": "code",
   "execution_count": null,
   "metadata": {},
   "outputs": [],
   "source": [
    "import pandas as pd\n",
    "df=pd.read_csv(open(file_in),sep=\"\\t\")\n",
    "df.describe()\n",
    "df.groupby(\"Nitrogen\").describe()"
   ]
  },
  {
   "cell_type": "code",
   "execution_count": null,
   "metadata": {},
   "outputs": [],
   "source": [
    "# Your Code here"
   ]
  }
 ],
 "metadata": {
  "kernelspec": {
   "display_name": "Python 3",
   "language": "python",
   "name": "python3"
  },
  "language_info": {
   "codemirror_mode": {
    "name": "ipython",
    "version": 3
   },
   "file_extension": ".py",
   "mimetype": "text/x-python",
   "name": "python",
   "nbconvert_exporter": "python",
   "pygments_lexer": "ipython3",
   "version": "3.11.3"
  },
  "orig_nbformat": 4
 },
 "nbformat": 4,
 "nbformat_minor": 2
}
